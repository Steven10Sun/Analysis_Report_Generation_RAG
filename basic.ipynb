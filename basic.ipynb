{
 "cells": [
  {
   "cell_type": "code",
   "execution_count": 57,
   "metadata": {},
   "outputs": [],
   "source": [
    "import os\n",
    "import json\n",
    "from datetime import datetime\n",
    "import warnings\n",
    "warnings.simplefilter('ignore')\n",
    "import requests\n",
    "\n",
    "import torch\n",
    "import torchvision\n",
    "import openai\n",
    "import PyPDF2\n",
    "import spacy\n",
    "from langchain.text_splitter import RecursiveCharacterTextSplitter\n",
    "from sklearn.metrics.pairwise import cosine_similarity\n",
    "import transformers\n",
    "# summarizer = transformers.pipeline(\"summarization\", model=\"sshleifer/distilbart-cnn-12-6\", revision=\"a4f8f3e\")\n",
    "from library.exportation import export_prompt_response, export_article\n",
    "from questions import questions\n",
    "from get_embedding_function import get_embedding_function\n"
   ]
  },
  {
   "cell_type": "code",
   "execution_count": 18,
   "metadata": {},
   "outputs": [],
   "source": [
    "def load_pdf_text(pdf_path):\n",
    "    \"\"\"Load text from a PDF file.\"\"\"\n",
    "    text = \"\"\n",
    "    with open(pdf_path, \"rb\") as file:\n",
    "        reader = PyPDF2.PdfReader(file)\n",
    "        for page in reader.pages:\n",
    "            text += page.extract_text() or \"\"\n",
    "    return text\n",
    "\n",
    "\n",
    "def embedding(chunks, nlp):\n",
    "    \"\"\"Encode text chunks using spaCy.\"\"\"\n",
    "    encoded_chunks = []\n",
    "    for chunk in chunks:\n",
    "        doc = nlp(chunk)\n",
    "        encoded_chunks.append(doc.vector)  # Get the vector representation\n",
    "    return encoded_chunks\n",
    "\n",
    "\n",
    "def summarize_text(text, max_length=100):\n",
    "    summarizer = transformers.pipeline(\"summarization\")\n",
    "    summary = summarizer(text, max_length=max_length, min_length=0, do_sample=False)\n",
    "    return summary[0]['summary_text']\n",
    "\n"
   ]
  },
  {
   "cell_type": "code",
   "execution_count": 16,
   "metadata": {},
   "outputs": [],
   "source": [
    "file_name = '6055.HK'\n",
    "folder_name = '3_data'\n",
    "pdf_file_path = os.path.join(folder_name, f'{file_name}.pdf')\n",
    "pdf_text = load_pdf_text(pdf_file_path)"
   ]
  },
  {
   "cell_type": "markdown",
   "metadata": {},
   "source": [
    "# Chunking and Embedding for PDF"
   ]
  },
  {
   "cell_type": "code",
   "execution_count": 68,
   "metadata": {},
   "outputs": [],
   "source": [
    "# Initialize the RecursiveCharacterTextSplitter\n",
    "text_splitter = RecursiveCharacterTextSplitter(\n",
    "    chunk_size=1000, chunk_overlap=200, add_start_index=True  #add_start_index=True else kernel die\n",
    ")\n",
    "\n",
    "# Split the text into chunks\n",
    "text_chunks = text_splitter.split_text(pdf_text)\n",
    "\n",
    "# Load the spaCy model\n",
    "nlp = spacy.load(\"en_core_web_md\")  # Load the spaCy model\n",
    "\n",
    "# Encode the chunks from pdf\n",
    "encoded_chunks = embedding(text_chunks, nlp)"
   ]
  },
  {
   "cell_type": "markdown",
   "metadata": {},
   "source": [
    "# Top 5 similar token \n"
   ]
  },
  {
   "cell_type": "code",
   "execution_count": 69,
   "metadata": {},
   "outputs": [],
   "source": [
    "top_N = 3\n",
    "top_N_chunks = {}\n",
    "\n",
    "for i, q in enumerate(questions):\n",
    "    q_emb = nlp(q).vector\n",
    "    # Find the most similar chunks to q_emb\n",
    "    similarities = cosine_similarity([q_emb], encoded_chunks).flatten()\n",
    "\n",
    "    top_N_idx = similarities.argsort()[::-1][:top_N]\n",
    "    \n",
    "    top_N_text = [text_chunks[i] for i in top_N_idx]\n",
    "\n",
    "    top_N_chunks[q] = top_N_text"
   ]
  },
  {
   "cell_type": "markdown",
   "metadata": {},
   "source": [
    "# define prompts\n"
   ]
  },
  {
   "cell_type": "code",
   "execution_count": 188,
   "metadata": {},
   "outputs": [],
   "source": [
    "def ask_question_prompt(content, question):\n",
    "    system_prompt = f\"\"\"You are an financial analyst.\n",
    "    Use the following pieces of retrieved context to answer the question. \n",
    "    Use 3 sentences maximum for question and keep the answer concise.\n",
    "\n",
    "\n",
    "    Retrieved context:\n",
    "    {content}\\n\n",
    "\n",
    "    Question:\n",
    "    {question}\n",
    "    \"\"\"\n",
    "    return system_prompt\n",
    "\n",
    "\n",
    "def write_report_prompt(content):\n",
    "    system_prompt = f\"\"\"You are a financial report writer. \n",
    "    Please combine the text provided and generate a financial analysis report. \n",
    "    The report should be about 15 to 20 paragraphs. The report should include the following sections:\n",
    "    1. Company Overview\n",
    "    2. Revenue Structure\n",
    "    3. Profit\n",
    "    4. Valuation\n",
    "    5. Summary\n",
    "    6. Future Outlook\n",
    "    7. and other details provided.\n",
    "    \n",
    "    content is as below:\n",
    "    {content}\n",
    "    \"\"\"\n",
    "    return system_prompt\n",
    "\n",
    "\n",
    "def generate_answer(prompt, api_key):\n",
    "    model = 'gpt-4o-mini'\n",
    "    url = \"https://api.ohmygpt.com/v1/chat/completions\"\n",
    "    \n",
    "    headers = {\n",
    "        \"Content-Type\": \"application/json\",\n",
    "        \"Authorization\": f\"Bearer {api_key}\"\n",
    "    }\n",
    "    \n",
    "    data = {\n",
    "        \"model\": model,\n",
    "        \"messages\": [\n",
    "            {\"role\": \"system\", \"content\": \"You are a financial assistant asking questions.\"},\n",
    "            {\"role\": \"user\", \"content\": prompt}\n",
    "        ],\n",
    "        \"temperature\": 0.7\n",
    "    }\n",
    "    response = requests.post(url, headers=headers, json=data)\n",
    "    response_json = response.json()\n",
    "    return response_json[\"choices\"][0][\"message\"][\"content\"]\n",
    "\n",
    "\n",
    "def generate_summary(prompt, api_key):\n",
    "    model = 'gpt-4o-mini'\n",
    "    url = \"https://api.ohmygpt.com/v1/chat/completions\"\n",
    "    \n",
    "    headers = {\n",
    "        \"Content-Type\": \"application/json\",\n",
    "        \"Authorization\": f\"Bearer {api_key}\"\n",
    "    }\n",
    "    \n",
    "    data = {\n",
    "        \"model\": model,\n",
    "        \"messages\": [\n",
    "            {\"role\": \"system\", \"content\": \"You are a writer.\"},\n",
    "            {\"role\": \"user\", \"content\": prompt}\n",
    "        ],\n",
    "        \"temperature\": 0.7\n",
    "    }\n",
    "    response = requests.post(url, headers=headers, json=data)\n",
    "    response_json = response.json()\n",
    "    return response_json[\"choices\"][0][\"message\"][\"content\"]"
   ]
  },
  {
   "cell_type": "code",
   "execution_count": 157,
   "metadata": {},
   "outputs": [],
   "source": [
    "# prompt to llm to ask question\n",
    "all_prompts = []\n",
    "\n",
    "# combine chunks and questions to string\n",
    "for question, top_chunks in top_N_chunks.items():\n",
    "    top_chunks_combined = '.'.join(top_chunks)\n",
    "    system_prompt = ask_question_prompt(top_chunks_combined, question)\n",
    "    all_prompts.append((question, system_prompt))"
   ]
  },
  {
   "cell_type": "code",
   "execution_count": 166,
   "metadata": {},
   "outputs": [
    {
     "name": "stdout",
     "output_type": "stream",
     "text": [
      "0\n",
      "1\n",
      "2\n",
      "3\n",
      "4\n",
      "5\n",
      "6\n",
      "7\n",
      "8\n",
      "9\n",
      "10\n",
      "11\n",
      "12\n",
      "13\n",
      "14\n",
      "15\n",
      "16\n",
      "17\n",
      "18\n",
      "19\n",
      "20\n",
      "21\n",
      "22\n",
      "23\n",
      "24\n",
      "25\n",
      "26\n",
      "27\n",
      "28\n",
      "29\n",
      "30\n",
      "31\n",
      "32\n",
      "33\n",
      "34\n",
      "35\n",
      "36\n",
      "37\n",
      "38\n",
      "39\n",
      "40\n",
      "41\n",
      "42\n",
      "43\n",
      "44\n",
      "45\n",
      "46\n",
      "47\n",
      "48\n",
      "49\n",
      "50\n",
      "51\n"
     ]
    }
   ],
   "source": [
    "prompt_response = []\n",
    "c = 0\n",
    "api_key = \"sk-NAWSSGI7999d18B51046T3BlBkFJ514d034054e342cc99c3\"\n",
    "for i, (q, p) in enumerate(all_prompts):\n",
    "    response = generate_answer(p, api_key)\n",
    "    prompt_response.append((q, response))\n",
    "    print(i)"
   ]
  },
  {
   "cell_type": "code",
   "execution_count": 172,
   "metadata": {},
   "outputs": [
    {
     "name": "stdout",
     "output_type": "stream",
     "text": [
      "JSON data has been exported to 1_prompt_log\\6055.HK_20241123_2045.json\n"
     ]
    }
   ],
   "source": [
    "prompt_hist = {}\n",
    "for q, r in  prompt_response:\n",
    "    prompt_hist[q] = r\n",
    "\n",
    "export_prompt_response(file_name, prompt_hist)"
   ]
  },
  {
   "cell_type": "code",
   "execution_count": 189,
   "metadata": {},
   "outputs": [],
   "source": [
    "content = ''\n",
    "for q, r in prompt_response:\n",
    "    content += f'{q} {r}\\n'\n",
    "summary_promt = write_report_prompt(content)\n",
    "report = generate_summary(summary_promt, api_key)"
   ]
  },
  {
   "cell_type": "code",
   "execution_count": 191,
   "metadata": {},
   "outputs": [
    {
     "name": "stdout",
     "output_type": "stream",
     "text": [
      "report has been exported to 2_article_log\\6055.HK_20241123_2059.txt\n"
     ]
    }
   ],
   "source": [
    "export_article(file_name, report)"
   ]
  },
  {
   "cell_type": "markdown",
   "metadata": {},
   "source": [
    "# Financial Analysis Report\n",
    "\n",
    "## Company Overview\n",
    "\n",
    "The company under review operates within the tobacco industry, primarily focusing on the procurement and sales of tobacco leaf products and related services under the CBT Framework Tobacco and Services Purchase Agreement. For the reporting period, the company reported a total revenue of HK$122.0 million stemming from its tobacco and services transactions. Notably, the overall revenue for the Group reached HK$6,802.2 million, marking a year-on-year growth of 5%. The Company is strategically positioned to adapt to market demands while optimizing its supply chain efficiencies and pricing strategies to enhance profitability.\n",
    "\n",
    "## Revenue Structure\n",
    "\n",
    "The revenue structure of the company showcases a diverse portfolio, although specific details regarding revenue-generating segments were not disclosed. A significant contributor to revenue is the tobacco leaf products export business, which recorded a commendable 23% growth year-on-year. Despite challenges in the Brazil operations, where the export volume decreased despite a 43% rise in operating revenue, the overall performance indicates resilience and adaptability in a fluctuating market. For a comprehensive assessment of the contributions from each segment, additional financial data would be necessary.\n",
    "\n",
    "## Profit\n",
    "\n",
    "A detailed analysis of profitability metrics reveals operational growth, although specific figures for net profit and EBITDA were not provided. The emphasis on operational strategies aimed at increasing gross profit margins is evident, especially within the Tobacco Leaf Products Export and Cigarettes Export businesses. However, external challenges, including weather conditions and shipping market fluctuations, have impacted sales volumes, leading to unmet customer needs. A shift in product structure has also resulted in increased sales of finished tobacco strips with higher unit prices but lower gross profit margins, indicating complexities in maintaining profitability.\n",
    "\n",
    "## Valuation\n",
    "\n",
    "Analysts primarily utilize gross profit as the valuation metric, which is derived from reportable segment revenue minus the related cost of sales. With the earnings per share (EPS) reported at HK$0.93, further analysis would be required to ascertain the price-to-earnings (P/E) ratio relative to industry averages. This metric is crucial for investors seeking insights into the company's valuation against its peers and the broader market context.\n",
    "\n",
    "## Summary\n",
    "\n",
    "The financial performance of the company during the reporting period reflects a robust revenue generation capability, underscored by strategic operational improvements and a focus on optimizing the supply chain. Despite facing challenges in sales volume and profitability due to external factors, the company has managed to sustain its market position. The increase in profit from operations and profit before taxation indicates effective management strategies, paving the way for future growth.\n",
    "\n",
    "## Future Outlook\n",
    "\n",
    "The outlook for the company remains positive, particularly in the New Tobacco Products Export Business. Future strategies include enhancing customer satisfaction through improved alignment of supply and demand and optimizing pricing strategies to bolster operational revenue. Additionally, the company aims to expand its procurement areas and enhance its ESG performance to tap into new profit sources. The focus on enhancing resource allocation in the Brazilian market further supports the growth trajectory.\n",
    "\n",
    "## Key Risks and Strategic Goals\n",
    "\n",
    "Key risks impacting the company include adverse weather conditions, fluctuations in international shipping markets, and challenges related to supply constraints. Management's strategic goals for the next year involve addressing these risks through enhanced planning, resource optimization, and improved governance capabilities. The company is also focusing on strengthening its supply chain efficiency and aligning product offerings to meet market demands.\n",
    "\n",
    "## Sustainability Initiatives\n",
    "\n",
    "The company is committed to enhancing its Environmental, Social, and Governance (ESG) performance, particularly in its supply chain operations. Future sustainability goals include optimizing resource allocation and strengthening governance to ensure stable operations. The focus on improving market competitiveness while effectively managing risks positions the company favorably for sustainable growth.\n",
    "\n",
    "## Employee Engagement and Corporate Culture\n",
    "\n",
    "While specifics on employee training and development were not detailed, the company��s governance improvements and implementation of \"Lean Management\" practices suggest a commitment to fostering a positive workplace culture. There is an implicit focus on enhancing operational efficiency, which can contribute to employee morale and engagement.\n",
    "\n",
    "## Conclusion\n",
    "\n",
    "In conclusion, the company demonstrates a solid financial performance bolstered by strategic operational improvements and a commitment to sustainability. While challenges persist, particularly in market supply and external factors, the proactive management strategies and focus on customer satisfaction indicate a promising outlook. Stakeholders should continue to monitor the company's financial metrics and market positioning to gauge future performance accurately. \n",
    "\n",
    "Overall, the company is well-positioned to navigate industry challenges and capitalize on growth opportunities, ensuring its position as a competitive player in the tobacco market."
   ]
  },
  {
   "cell_type": "code",
   "execution_count": null,
   "metadata": {},
   "outputs": [],
   "source": []
  }
 ],
 "metadata": {
  "kernelspec": {
   "display_name": "Python 3",
   "language": "python",
   "name": "python3"
  },
  "language_info": {
   "codemirror_mode": {
    "name": "ipython",
    "version": 3
   },
   "file_extension": ".py",
   "mimetype": "text/x-python",
   "name": "python",
   "nbconvert_exporter": "python",
   "pygments_lexer": "ipython3",
   "version": "3.12.4"
  }
 },
 "nbformat": 4,
 "nbformat_minor": 2
}
