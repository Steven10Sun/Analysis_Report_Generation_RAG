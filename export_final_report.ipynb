{
 "cells": [
  {
   "cell_type": "code",
   "execution_count": 151,
   "metadata": {},
   "outputs": [],
   "source": [
    "import pandas as pd\n",
    "from reportlab.lib import colors\n",
    "from reportlab.lib.pagesizes import letter\n",
    "from reportlab.lib.styles import getSampleStyleSheet\n",
    "from reportlab.platypus import SimpleDocTemplate, Paragraph, Spacer\n",
    "import re"
   ]
  },
  {
   "cell_type": "code",
   "execution_count": 152,
   "metadata": {},
   "outputs": [],
   "source": [
    "# Parameters\n",
    "mainpath = r'C:\\Users\\ChaakHei\\Downloads'\n",
    "excel_file = mainpath+r'\\reports.xlsx'  # Excel file which stores the text of the report\n",
    "sheet_name = '6055'      # Change sheet name as the stock you want to analyze\n",
    "version = 4             # Change to the desired version number\n",
    "output_pdf = mainpath+fr'\\{sheet_name}.pdf'\n",
    "stock = sheet_name.zfill(4)\n",
    "image1_path = mainpath+fr'\\{stock}.HK_price_volume.png' \n",
    "image2_path = mainpath+fr'\\{stock}.HK_financials_line.png'\n",
    "image3_path = mainpath+fr'\\{stock}.HK_financials.png'\n",
    "image4_path = mainpath+fr'\\{stock}.HK_financials_change.png'"
   ]
  },
  {
   "cell_type": "code",
   "execution_count": 153,
   "metadata": {},
   "outputs": [],
   "source": [
    "# Load the Excel sheet\n",
    "df = pd.read_excel(excel_file, sheet_name=sheet_name)\n",
    "\n",
    "# Extract the relevant cell\n",
    "text = df.iloc[0, version-1] "
   ]
  },
  {
   "cell_type": "code",
   "execution_count": 154,
   "metadata": {},
   "outputs": [],
   "source": [
    "# Function to convert simple Markdown to HTML-like format\n",
    "def convert_markdown_to_paragraphs(markdown_text):\n",
    "    lines = markdown_text.split('\\n')\n",
    "    paragraphs = []\n",
    "    styles = getSampleStyleSheet()\n",
    "    \n",
    "    # Regular expression to match numbered or bulleted lists with bold text\n",
    "    list_pattern = re.compile(r'^\\s*(\\d+\\.|[a-z]\\.|[-])\\s+\\*\\*(.*?)\\*\\*:\\s*(.*)$')\n",
    "\n",
    "    for line in lines:\n",
    "        line = line.strip()\n",
    "        if line.startswith('# '):\n",
    "            paragraphs.append(Paragraph(line[2:], styles['Heading1']))\n",
    "        elif line.startswith('## '):\n",
    "            paragraphs.append(Paragraph(line[3:], styles['Heading2']))\n",
    "        elif line.startswith('### '):\n",
    "            paragraphs.append(Paragraph(line[4:], styles['Heading3']))  # Handle Heading 3\n",
    "        elif line.startswith('#### '):\n",
    "            paragraphs.append(Paragraph(line[5:], styles['Heading4']))  # Handle Heading 4\n",
    "        else:\n",
    "            match = list_pattern.match(line)\n",
    "            if match:\n",
    "                # Construct the list item with bold formatting\n",
    "                prefix = match.group(1)  # e.g., '1.', 'a.', '-'\n",
    "                bold_text = match.group(2)  # Text that should be bold\n",
    "                content = f\"{prefix}<b>{bold_text}</b>: {match.group(3)}\"\n",
    "                paragraphs.append(Paragraph(content, styles['BodyText']))\n",
    "            else:\n",
    "                paragraphs.append(Paragraph(line, styles['BodyText']))\n",
    "\n",
    "        paragraphs.append(Spacer(1, 12))  # Add space between paragraphs\n",
    "    \n",
    "    return paragraphs\n",
    "\n",
    "# Convert Markdown text to reportlab paragraphs\n",
    "story = convert_markdown_to_paragraphs(text)"
   ]
  },
  {
   "cell_type": "code",
   "execution_count": 155,
   "metadata": {},
   "outputs": [],
   "source": [
    "from reportlab.platypus import SimpleDocTemplate, Paragraph, Spacer, Image\n",
    "from reportlab.lib.pagesizes import letter\n",
    "from reportlab.lib.styles import getSampleStyleSheet\n",
    "from reportlab.lib import utils"
   ]
  },
  {
   "cell_type": "code",
   "execution_count": 156,
   "metadata": {},
   "outputs": [],
   "source": [
    "# Function to resize images\n",
    "def resize_image(image_path, max_width, max_height):\n",
    "    img = utils.ImageReader(image_path)\n",
    "    width, height = img.getSize()\n",
    "    \n",
    "    aspect = width / height\n",
    "    if aspect > 1:  # Image is wider than tall\n",
    "        new_width = max_width\n",
    "        new_height = max_width / aspect\n",
    "    else:  # Image is taller than wide\n",
    "        new_height = max_height\n",
    "        new_width = max_height * aspect\n",
    "    \n",
    "    return Image(image_path, new_width, new_height)"
   ]
  },
  {
   "cell_type": "code",
   "execution_count": 157,
   "metadata": {},
   "outputs": [],
   "source": [
    "# Resize and add images to the report, if the images is not exist then ignore it\n",
    "try:\n",
    "    story.append(resize_image(image1_path, 500, 500))\n",
    "    story.append(Spacer(1, 12))  # Add space between images\n",
    "except:\n",
    "    pass\n",
    "\n",
    "try:\n",
    "    story.append(resize_image(image2_path, 500, 500))\n",
    "    story.append(Spacer(1, 12))  # Add space between images\n",
    "except:\n",
    "    pass\n",
    "\n",
    "try:\n",
    "    story.append(resize_image(image3_path, 500, 500))\n",
    "    story.append(Spacer(1, 12))  # Add space between images\n",
    "except:\n",
    "    pass\n",
    "\n",
    "try:\n",
    "    story.append(resize_image(image4_path, 500, 500))\n",
    "    story.append(Spacer(1, 12))  # Add space between images\n",
    "except:\n",
    "    pass\n",
    "\n",
    "# Create PDF document\n",
    "pdf = SimpleDocTemplate(output_pdf, pagesize=letter)\n",
    "pdf.build(story)"
   ]
  },
  {
   "cell_type": "code",
   "execution_count": null,
   "metadata": {},
   "outputs": [],
   "source": []
  }
 ],
 "metadata": {
  "kernelspec": {
   "display_name": "base",
   "language": "python",
   "name": "python3"
  },
  "language_info": {
   "codemirror_mode": {
    "name": "ipython",
    "version": 3
   },
   "file_extension": ".py",
   "mimetype": "text/x-python",
   "name": "python",
   "nbconvert_exporter": "python",
   "pygments_lexer": "ipython3",
   "version": "3.10.9"
  }
 },
 "nbformat": 4,
 "nbformat_minor": 2
}
