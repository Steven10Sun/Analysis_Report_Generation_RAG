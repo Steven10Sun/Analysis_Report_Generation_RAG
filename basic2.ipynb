{
 "cells": [
  {
   "cell_type": "code",
   "execution_count": 56,
   "metadata": {},
   "outputs": [],
   "source": [
    "import openai\n",
    "import PyPDF2\n",
    "import requests\n",
    "import os\n",
    "from library.exportation import export_prompt_response, export_article"
   ]
  },
  {
   "cell_type": "code",
   "execution_count": 12,
   "metadata": {},
   "outputs": [],
   "source": [
    "# General Financial Performance\n",
    "general_financial_performance = [\n",
    "    \"What is the total revenue for the reporting period?\",\n",
    "    \"How does the total revenue compare to the previous period?\",\n",
    "    \"What is the year-over-year growth rate of total revenue?\",\n",
    "    \"What are the main revenue-generating segments or divisions?\",\n",
    "    \"What percentage of total revenue does each segment contribute?\",\n",
    "    \"How did the gross profit margin change compared to the previous period?\",\n",
    "    \"What were the operating expenses, and how do they compare to revenue?\",\n",
    "    \"What is the EBITDA for the reporting period, and how has it changed?\",\n",
    "    \"What is the net profit for the reporting period, and how does it compare to previous results?\",\n",
    "    \"What are the key factors affecting profitability in this period?\"\n",
    "]\n",
    "\n",
    "# Cash Flow and Capital\n",
    "cash_flow_and_capital = [\n",
    "    \"What is the free cash flow for the reporting period?\",\n",
    "    \"How did cash flow from operations change compared to the previous period?\",\n",
    "    \"What are the capital expenditures for the period, and how do they compare to previous expenditures?\",\n",
    "    \"What is the company's current debt level, and how has it changed?\",\n",
    "    \"How does the net debt to equity ratio compare to industry standards?\",\n",
    "    \"What are the sources of funding for the company's operations?\",\n",
    "    \"How does the company manage its working capital?\"\n",
    "]\n",
    "\n",
    "# Market and Competitive Analysis\n",
    "market_and_competitive_analysis = [\n",
    "    \"What are the key market trends affecting the company?\",\n",
    "    \"Who are the main competitors, and how does the company position itself against them?\",\n",
    "    \"What is the company's market share in its primary markets?\",\n",
    "    \"What are the growth opportunities identified in the market?\",\n",
    "    \"What external factors (economic, political, social) could impact the business?\"\n",
    "]\n",
    "\n",
    "# Strategic Outlook\n",
    "strategic_outlook = [\n",
    "    \"What are the management's strategic goals for the next year?\",\n",
    "    \"How does the company plan to address challenges identified in the analysis?\",\n",
    "    \"What innovations or new products are expected to be launched?\",\n",
    "    \"What is the outlook for the company's major business segments?\",\n",
    "    \"How does the company plan to enhance customer engagement and satisfaction?\"\n",
    "]\n",
    "\n",
    "# Risk Management\n",
    "risk_management = [\n",
    "    \"What are the key risks identified in the company's operations?\",\n",
    "    \"How does the company assess and manage financial risks?\",\n",
    "    \"What strategies are in place to mitigate operational risks?\",\n",
    "    \"How does the company handle regulatory compliance and legal risks?\",\n",
    "    \"What contingency plans does the company have for potential crises?\"\n",
    "]\n",
    "\n",
    "# Corporate Governance\n",
    "corporate_governance = [\n",
    "    \"Who are the members of the board of directors, and what are their roles?\",\n",
    "    \"How is the corporate governance structure organized?\",\n",
    "    \"What policies are in place for ethical conduct and compliance?\",\n",
    "    \"How does the company communicate with its shareholders?\",\n",
    "    \"What measures are taken to ensure transparency in reporting?\"\n",
    "]\n",
    "\n",
    "# Performance Metrics\n",
    "performance_metrics = [\n",
    "    \"What is the earnings per share (EPS) for the reporting period?\",\n",
    "    \"How does the price-to-earnings (P/E) ratio compare to industry averages?\",\n",
    "    \"What is the dividend yield, and how does it compare to previous periods?\",\n",
    "    \"How have key performance indicators (KPIs) changed over time?\",\n",
    "    \"What valuation metrics are analysts using for this company?\"\n",
    "]\n",
    "\n",
    "# Sustainability and CSR\n",
    "sustainability_and_csr = [\n",
    "    \"What sustainability initiatives is the company currently pursuing?\",\n",
    "    \"How does the company address environmental, social, and governance (ESG) factors?\",\n",
    "    \"What is the company's approach to corporate social responsibility (CSR)?\",\n",
    "    \"How does the company measure its impact on the community and environment?\",\n",
    "    \"What are the future goals related to sustainability?\"\n",
    "]\n",
    "\n",
    "# Employee and Culture\n",
    "employee_and_culture = [\n",
    "    \"What is the company's approach to employee training and development?\",\n",
    "    \"How does the company foster a positive workplace culture?\",\n",
    "    \"What are the employee engagement levels and satisfaction metrics?\",\n",
    "    \"How does the company approach diversity and inclusion?\",\n",
    "    \"What benefits and incentives does the company offer to retain talent?\"\n",
    "]\n"
   ]
  },
  {
   "cell_type": "code",
   "execution_count": 64,
   "metadata": {},
   "outputs": [],
   "source": [
    "def load_pdf_text(pdf_path):\n",
    "    \"\"\"Load text from a PDF file.\"\"\"\n",
    "    text = \"\"\n",
    "    with open(pdf_path, \"rb\") as file:\n",
    "        reader = PyPDF2.PdfReader(file)\n",
    "        for page in reader.pages:\n",
    "            text += page.extract_text() or \"\"\n",
    "    return text\n",
    "\n",
    "def generate_answer(context, question, api_key):\n",
    "    model = 'gpt-4o-mini'\n",
    "    url = \"https://api.ohmygpt.com/v1/chat/completions\"\n",
    "    \n",
    "    headers = {\n",
    "        \"Content-Type\": \"application/json\",\n",
    "        \"Authorization\": f\"Bearer {api_key}\"\n",
    "    }\n",
    "    \n",
    "    data = {\n",
    "        \"model\": model,\n",
    "        \"messages\": [\n",
    "            {\"role\": \"system\", \"content\": \"You are a financial assistant.\"},\n",
    "            {\"role\": \"user\", \"content\": f\"Context: {context} Question: {question}\"}\n",
    "        ],\n",
    "        \"temperature\": 0.7\n",
    "    }\n",
    "    response = requests.post(url, headers=headers, json=data)\n",
    "    response_json = response.json()\n",
    "    return response_json[\"choices\"][0][\"message\"][\"content\"]\n",
    "\n",
    "def generate_summary(answers, api_key):\n",
    "    model = 'gpt-4o-mini'\n",
    "    url = \"https://api.ohmygpt.com/v1/chat/completions\"\n",
    "\n",
    "    summary_prompt = \"Summarize the following answers into a comprehensive paragraph:\\n\\n\" + \"\\n\\n\".join(answers)\n",
    "    headers = {\n",
    "        \"Authorization\": f\"Bearer {api_key}\",\n",
    "        \"Content-Type\": \"application/json\"\n",
    "    }\n",
    "    data = {\n",
    "        \"model\": model,\n",
    "        \"messages\": [\n",
    "            {\"role\": \"system\", \"content\": \"You are a summarizing assistant.\"},\n",
    "            {\"role\": \"user\", \"content\": summary_prompt}\n",
    "        ],\n",
    "        \"temperature\": 0.7\n",
    "    }\n",
    "    response = requests.post(url, headers=headers, json=data)\n",
    "    return response.json()[\"choices\"][0][\"message\"][\"content\"]\n"
   ]
  },
  {
   "cell_type": "code",
   "execution_count": null,
   "metadata": {},
   "outputs": [],
   "source": [
    "api_key = \"\""
   ]
  },
  {
   "cell_type": "code",
   "execution_count": 34,
   "metadata": {},
   "outputs": [],
   "source": [
    "file_name = '6055.HK'\n",
    "folder_name = '3_data'\n",
    "pdf_file_path = os.path.join(folder_name, f'{file_name}.pdf')\n",
    "pdf_text = load_pdf_text(pdf_file_path)"
   ]
  },
  {
   "cell_type": "code",
   "execution_count": null,
   "metadata": {},
   "outputs": [],
   "source": [
    "roles_questions = {\n",
    "    \"general financial performance analyst\": general_financial_performance,\n",
    "    \"cash flow and capital analyst\": cash_flow_and_capital,\n",
    "    \"market and competitive analysis analyst\": market_and_competitive_analysis,\n",
    "    \"strategic outlook analyst\": strategic_outlook,\n",
    "    \"risk management analyst\": risk_management,\n",
    "    \"corporate governance analyst\": corporate_governance,\n",
    "    \"performance metrics analyst\": performance_metrics,\n",
    "    \"sustainability and csr analyst\": sustainability_and_csr,\n",
    "    \"employee and culture analyst\": employee_and_culture\n",
    "}\n",
    "\n",
    "role_answers = {role: [] for role in roles_questions}\n",
    "\n",
    "prompt_response = {}"
   ]
  },
  {
   "cell_type": "code",
   "execution_count": 60,
   "metadata": {},
   "outputs": [
    {
     "name": "stdout",
     "output_type": "stream",
     "text": [
      "general financial performance analyst\n",
      "cash flow and capital analyst\n",
      "market and competitive analysis analyst\n",
      "strategic outlook analyst\n",
      "risk management analyst\n",
      "corporate governance analyst\n",
      "performance metrics analyst\n",
      "sustainability and csr analyst\n",
      "employee and culture analyst\n"
     ]
    },
    {
     "ename": "KeyError",
     "evalue": "'choices'",
     "output_type": "error",
     "traceback": [
      "\u001b[1;31m---------------------------------------------------------------------------\u001b[0m",
      "\u001b[1;31mKeyError\u001b[0m                                  Traceback (most recent call last)",
      "Cell \u001b[1;32mIn[60], line 4\u001b[0m\n\u001b[0;32m      2\u001b[0m \u001b[38;5;28mprint\u001b[39m(role)\n\u001b[0;32m      3\u001b[0m \u001b[38;5;28;01mfor\u001b[39;00m question \u001b[38;5;129;01min\u001b[39;00m questions:\n\u001b[1;32m----> 4\u001b[0m     answer \u001b[38;5;241m=\u001b[39m \u001b[43mgenerate_answer\u001b[49m\u001b[43m(\u001b[49m\u001b[43mpdf_text\u001b[49m\u001b[43m,\u001b[49m\u001b[43m \u001b[49m\u001b[43mquestion\u001b[49m\u001b[43m,\u001b[49m\u001b[43m \u001b[49m\u001b[43mapi_key\u001b[49m\u001b[43m)\u001b[49m\n\u001b[0;32m      5\u001b[0m     role_answers[role]\u001b[38;5;241m.\u001b[39mappend(\u001b[38;5;124mf\u001b[39m\u001b[38;5;124m\"\u001b[39m\u001b[38;5;124mQuestion: \u001b[39m\u001b[38;5;132;01m{\u001b[39;00mquestion\u001b[38;5;132;01m}\u001b[39;00m\u001b[38;5;130;01m\\n\u001b[39;00m\u001b[38;5;124mAnswer: \u001b[39m\u001b[38;5;132;01m{\u001b[39;00manswer\u001b[38;5;132;01m}\u001b[39;00m\u001b[38;5;130;01m\\n\u001b[39;00m\u001b[38;5;124m\"\u001b[39m)\n",
      "Cell \u001b[1;32mIn[36], line 29\u001b[0m, in \u001b[0;36mgenerate_answer\u001b[1;34m(context, question, api_key)\u001b[0m\n\u001b[0;32m     27\u001b[0m response \u001b[38;5;241m=\u001b[39m requests\u001b[38;5;241m.\u001b[39mpost(url, headers\u001b[38;5;241m=\u001b[39mheaders, json\u001b[38;5;241m=\u001b[39mdata)\n\u001b[0;32m     28\u001b[0m response_json \u001b[38;5;241m=\u001b[39m response\u001b[38;5;241m.\u001b[39mjson()\n\u001b[1;32m---> 29\u001b[0m \u001b[38;5;28;01mreturn\u001b[39;00m \u001b[43mresponse_json\u001b[49m\u001b[43m[\u001b[49m\u001b[38;5;124;43m\"\u001b[39;49m\u001b[38;5;124;43mchoices\u001b[39;49m\u001b[38;5;124;43m\"\u001b[39;49m\u001b[43m]\u001b[49m[\u001b[38;5;241m0\u001b[39m][\u001b[38;5;124m\"\u001b[39m\u001b[38;5;124mmessage\u001b[39m\u001b[38;5;124m\"\u001b[39m][\u001b[38;5;124m\"\u001b[39m\u001b[38;5;124mcontent\u001b[39m\u001b[38;5;124m\"\u001b[39m]\n",
      "\u001b[1;31mKeyError\u001b[0m: 'choices'"
     ]
    }
   ],
   "source": [
    "for role, questions in roles_questions.items():\n",
    "    print(role)\n",
    "    for question in questions:\n",
    "        answer = generate_answer(pdf_text, question, api_key)\n",
    "        role_answers[role].append(f\"Question: {question}\\nAnswer: {answer}\\n\")\n",
    "        prompt_response[question] = answer"
   ]
  },
  {
   "cell_type": "code",
   "execution_count": 65,
   "metadata": {},
   "outputs": [
    {
     "ename": "KeyError",
     "evalue": "'choices'",
     "output_type": "error",
     "traceback": [
      "\u001b[1;31m---------------------------------------------------------------------------\u001b[0m",
      "\u001b[1;31mKeyError\u001b[0m                                  Traceback (most recent call last)",
      "Cell \u001b[1;32mIn[65], line 3\u001b[0m\n\u001b[0;32m      1\u001b[0m summaries \u001b[38;5;241m=\u001b[39m {}\n\u001b[0;32m      2\u001b[0m \u001b[38;5;28;01mfor\u001b[39;00m role, answers \u001b[38;5;129;01min\u001b[39;00m role_answers\u001b[38;5;241m.\u001b[39mitems():\n\u001b[1;32m----> 3\u001b[0m     summaries[role] \u001b[38;5;241m=\u001b[39m \u001b[43mgenerate_summary\u001b[49m\u001b[43m(\u001b[49m\u001b[43manswers\u001b[49m\u001b[43m,\u001b[49m\u001b[43m \u001b[49m\u001b[43mapi_key\u001b[49m\u001b[43m)\u001b[49m\n",
      "Cell \u001b[1;32mIn[64], line 49\u001b[0m, in \u001b[0;36mgenerate_summary\u001b[1;34m(answers, api_key)\u001b[0m\n\u001b[0;32m     40\u001b[0m data \u001b[38;5;241m=\u001b[39m {\n\u001b[0;32m     41\u001b[0m     \u001b[38;5;124m\"\u001b[39m\u001b[38;5;124mmodel\u001b[39m\u001b[38;5;124m\"\u001b[39m: model,\n\u001b[0;32m     42\u001b[0m     \u001b[38;5;124m\"\u001b[39m\u001b[38;5;124mmessages\u001b[39m\u001b[38;5;124m\"\u001b[39m: [\n\u001b[1;32m   (...)\u001b[0m\n\u001b[0;32m     46\u001b[0m     \u001b[38;5;124m\"\u001b[39m\u001b[38;5;124mtemperature\u001b[39m\u001b[38;5;124m\"\u001b[39m: \u001b[38;5;241m0.7\u001b[39m\n\u001b[0;32m     47\u001b[0m }\n\u001b[0;32m     48\u001b[0m response \u001b[38;5;241m=\u001b[39m requests\u001b[38;5;241m.\u001b[39mpost(url, headers\u001b[38;5;241m=\u001b[39mheaders, json\u001b[38;5;241m=\u001b[39mdata)\n\u001b[1;32m---> 49\u001b[0m \u001b[38;5;28;01mreturn\u001b[39;00m \u001b[43mresponse\u001b[49m\u001b[38;5;241;43m.\u001b[39;49m\u001b[43mjson\u001b[49m\u001b[43m(\u001b[49m\u001b[43m)\u001b[49m\u001b[43m[\u001b[49m\u001b[38;5;124;43m\"\u001b[39;49m\u001b[38;5;124;43mchoices\u001b[39;49m\u001b[38;5;124;43m\"\u001b[39;49m\u001b[43m]\u001b[49m[\u001b[38;5;241m0\u001b[39m][\u001b[38;5;124m\"\u001b[39m\u001b[38;5;124mmessage\u001b[39m\u001b[38;5;124m\"\u001b[39m][\u001b[38;5;124m\"\u001b[39m\u001b[38;5;124mcontent\u001b[39m\u001b[38;5;124m\"\u001b[39m]\n",
      "\u001b[1;31mKeyError\u001b[0m: 'choices'"
     ]
    }
   ],
   "source": [
    "summaries = {}\n",
    "for role, answers in role_answers.items():\n",
    "    summaries[role] = generate_summary(answers, api_key)"
   ]
  },
  {
   "cell_type": "code",
   "execution_count": null,
   "metadata": {},
   "outputs": [
    {
     "name": "stdout",
     "output_type": "stream",
     "text": [
      "Analytics Report\n",
      "\n",
      "Role: market and competitive analysis analyst\n",
      "China Tobacco International (HK) Company Limited is currently influenced by several key market trends and competitive dynamics. Notably, there is a shift in consumer preferences towards alternative tobacco products like e-cigarettes and heat-not-burn products, driven by increased health consciousness. This trend is compounded by a tightening regulatory environment aimed at reducing smoking rates and limiting tobacco advertising, which necessitates compliance in operational strategies. Additionally, global supply chain challenges, exacerbated by extreme weather and shipping fluctuations, pose risks to sourcing high-quality tobacco. The company is strategically expanding its market presence beyond China, focusing on regions such as Southeast Asia and Europe to diversify revenue streams. Competitively, it faces significant players like China National Tobacco Corporation, Philip Morris International, and British American Tobacco, positioning itself through a diversified product portfolio, international market focus, and innovation in new product development. Despite lacking specific market share data, growth opportunities exist in enhancing tobacco leaf imports and exports, cultivating cigarette brands, and expanding into emerging markets like Brazil. External factors, including economic fluctuations, regulatory changes, and shifting social attitudes towards smoking, also significantly impact the business landscape. To navigate these challenges and capitalize on opportunities, CTIHK emphasizes operational efficiency, ESG initiatives, and technological advancements, aiming to enhance competitiveness and shareholder value in a rapidly evolving market.\n",
      "\n",
      "Role: employee and culture analyst\n",
      "China Tobacco International (HK) Company Limited adopts a comprehensive approach to employee training and development, emphasizing induction training for new hires, job-specific professional training, and annual reviews of competitive remuneration packages based on market trends and individual performance. To foster a positive workplace culture, the company prioritizes career development programs, training opportunities, competitive compensation, community engagement, and adherence to environmental, social, and governance (ESG) principles, which collectively enhance employee morale and create a sense of belonging. Although specific metrics on employee engagement and satisfaction are not detailed in the interim report, the company's strategy suggests a commitment to these areas through competitive salaries, performance-related bonuses, and various employee benefits. Additionally, while the report does not explicitly mention diversity and inclusion initiatives, it is advised to explore corporate governance or sustainability documents for further insights. Overall, the company's focus on professional growth, community involvement, and a supportive work environment aims to attract and retain talented individuals within the industry.\n",
      "\n",
      "\n"
     ]
    }
   ],
   "source": [
    "final_report = \"Analytics Report\\n\\n\"\n",
    "for role, summary in summaries.items():\n",
    "    final_report += f\"Role: {role}\\n{summary}\\n\\n\"\n",
    "\n",
    "print(final_report)"
   ]
  },
  {
   "cell_type": "code",
   "execution_count": null,
   "metadata": {},
   "outputs": [
    {
     "name": "stdout",
     "output_type": "stream",
     "text": [
      "report has been exported to 2_article_log\\6055.HK_20241122_0016.txt\n"
     ]
    }
   ],
   "source": [
    "export_article(file_name, final_report)\n",
    "\n",
    "export_prompt_response(file_name, prompt_response)"
   ]
  },
  {
   "cell_type": "code",
   "execution_count": null,
   "metadata": {},
   "outputs": [
    {
     "name": "stdout",
     "output_type": "stream",
     "text": [
      "Error: 401\n",
      "{\"statusCode\":401,\"message\":\"This API key's maximum fee exceeded.\",\"errorType\":\"unauthorized_error\",\"data\":null}\n"
     ]
    },
    {
     "ename": "ValueError",
     "evalue": "Error in the response",
     "output_type": "error",
     "traceback": [
      "\u001b[1;31m---------------------------------------------------------------------------\u001b[0m",
      "\u001b[1;31mValueError\u001b[0m                                Traceback (most recent call last)",
      "Cell \u001b[1;32mIn[67], line 57\u001b[0m\n\u001b[0;32m     52\u001b[0m     \u001b[38;5;28;01mreturn\u001b[39;00m assistant_reply\n\u001b[0;32m     56\u001b[0m key \u001b[38;5;241m=\u001b[39m \u001b[38;5;124m\"\u001b[39m\u001b[38;5;124msk-NAWSSGI7999d18B51046T3BlBkFJ514d034054e342cc99c3\u001b[39m\u001b[38;5;124m\"\u001b[39m\n\u001b[1;32m---> 57\u001b[0m \u001b[38;5;28mprint\u001b[39m(\u001b[43mget_answers\u001b[49m\u001b[43m(\u001b[49m\u001b[38;5;124;43m\"\u001b[39;49m\u001b[38;5;124;43mHow are you today?\u001b[39;49m\u001b[38;5;124;43m\"\u001b[39;49m\u001b[43m,\u001b[49m\u001b[43m \u001b[49m\u001b[43mkey\u001b[49m\u001b[43m)\u001b[49m)\n",
      "Cell \u001b[1;32mIn[67], line 37\u001b[0m, in \u001b[0;36mget_answers\u001b[1;34m(context, key)\u001b[0m\n\u001b[0;32m     35\u001b[0m     \u001b[38;5;28mprint\u001b[39m(\u001b[38;5;124mf\u001b[39m\u001b[38;5;124m\"\u001b[39m\u001b[38;5;124mError: \u001b[39m\u001b[38;5;132;01m{\u001b[39;00mresponse\u001b[38;5;241m.\u001b[39mstatus_code\u001b[38;5;132;01m}\u001b[39;00m\u001b[38;5;124m\"\u001b[39m)\n\u001b[0;32m     36\u001b[0m     \u001b[38;5;28mprint\u001b[39m(response\u001b[38;5;241m.\u001b[39mtext)\n\u001b[1;32m---> 37\u001b[0m     \u001b[38;5;28;01mraise\u001b[39;00m \u001b[38;5;167;01mValueError\u001b[39;00m(\u001b[38;5;124m\"\u001b[39m\u001b[38;5;124mError in the response\u001b[39m\u001b[38;5;124m\"\u001b[39m)\n\u001b[0;32m     38\u001b[0m response_json \u001b[38;5;241m=\u001b[39m response\u001b[38;5;241m.\u001b[39mjson()\n\u001b[0;32m     40\u001b[0m \u001b[38;5;66;03m# Parse the JSON response\u001b[39;00m\n\u001b[0;32m     41\u001b[0m \u001b[38;5;66;03m# response_data = json.loads(response_json)\u001b[39;00m\n",
      "\u001b[1;31mValueError\u001b[0m: Error in the response"
     ]
    }
   ],
   "source": [
    "def get_answers(context, key):\n",
    "\n",
    "    model = 'gpt-4o-mini'\n",
    "    url = \"https://api.ohmygpt.com/v1/chat/completions\"\n",
    "    headers = {\n",
    "        \"Content-Type\": \"application/json\",\n",
    "        \"Authorization\": f\"Bearer {key}\"\n",
    "    }\n",
    "\n",
    "    if type(context) == list:\n",
    "        messages = []\n",
    "        for i, c in enumerate(context):\n",
    "            if i % 2 == 0:\n",
    "                role = \"user\"\n",
    "            else:\n",
    "                role = \"assistant\"\n",
    "            messages.append({\"role\": role, \"content\": c})\n",
    "        data = {\n",
    "            \"model\": model,\n",
    "            \"messages\": messages,\n",
    "            \"temperature\": 0.7\n",
    "        }\n",
    "    else:\n",
    "        data = {\n",
    "            \"model\": model,\n",
    "            \"messages\": [\n",
    "                {\"role\": \"user\", \"content\": context}\n",
    "            ],\n",
    "            \"temperature\": 0.7\n",
    "        }\n",
    "    while True:\n",
    "        response = requests.post(url, headers=headers, json=data)\n",
    "        # check if the response is successful\n",
    "        if response.status_code != 200:\n",
    "            print(f\"Error: {response.status_code}\")\n",
    "            print(response.text)\n",
    "            raise ValueError(\"Error in the response\")\n",
    "        response_json = response.json()\n",
    "\n",
    "        # Parse the JSON response\n",
    "        # response_data = json.loads(response_json)\n",
    "        assistant_reply = response_json[\"choices\"][0][\"message\"][\"content\"]\n",
    "        break\n",
    "\n",
    "        # # check if it is a json\n",
    "        # try:\n",
    "        #     json.loads(assistant_reply)\n",
    "        #     break\n",
    "        # except:\n",
    "        #     print(assistant_reply)\n",
    "        #     pass\n",
    "    return assistant_reply\n",
    "\n",
    "\n",
    "\n",
    "key = \"\"\n",
    "print(get_answers(\"How are you today?\", key))\n"
   ]
  }
 ],
 "metadata": {
  "kernelspec": {
   "display_name": "Python 3",
   "language": "python",
   "name": "python3"
  },
  "language_info": {
   "codemirror_mode": {
    "name": "ipython",
    "version": 3
   },
   "file_extension": ".py",
   "mimetype": "text/x-python",
   "name": "python",
   "nbconvert_exporter": "python",
   "pygments_lexer": "ipython3",
   "version": "3.12.3"
  }
 },
 "nbformat": 4,
 "nbformat_minor": 2
}
