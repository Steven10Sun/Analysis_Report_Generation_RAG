{
 "cells": [
  {
   "cell_type": "code",
   "execution_count": 7,
   "metadata": {},
   "outputs": [],
   "source": [
    "import pandas as pd\n",
    "import _1, _3306, _6055, _778, _916"
   ]
  },
  {
   "cell_type": "code",
   "execution_count": 8,
   "metadata": {},
   "outputs": [],
   "source": [
    "answer_1 = pd.DataFrame(_1.answers, columns=['ver2'])\n",
    "answer_778 = pd.DataFrame(_778.answers, columns=['ver2'])\n",
    "answer_916 = pd.DataFrame(_916.answers, columns=['ver2'])\n",
    "answer_3306 = pd.DataFrame(_3306.answers, columns=['ver2'])\n",
    "answer_6055 = pd.DataFrame(_6055.answers, columns=['ver2'])"
   ]
  },
  {
   "cell_type": "code",
   "execution_count": null,
   "metadata": {},
   "outputs": [],
   "source": [
    "\n",
    "import pandas as pd\n",
    "\n",
    "# Create an Excel writer object\n",
    "with pd.ExcelWriter('expected_value.xlsx') as writer:\n",
    "    answer_1.to_excel(writer, sheet_name='1', index=False)\n",
    "    answer_778.to_excel(writer, sheet_name='778', index=False)\n",
    "    answer_916.to_excel(writer, sheet_name='916', index=False)\n",
    "    answer_3306.to_excel(writer, sheet_name='3306', index=False)\n",
    "    answer_6055.to_excel(writer, sheet_name='6055', index=False)"
   ]
  },
  {
   "cell_type": "code",
   "execution_count": 45,
   "metadata": {},
   "outputs": [],
   "source": [
    "import json\n",
    "import os\n",
    "import pandas as pd\n",
    "\n",
    "question_1 = pd.read_excel('questions.xlsx', sheet_name='1')\n",
    "question_778 = pd.read_excel('questions.xlsx', sheet_name='778')\n",
    "question_916 = pd.read_excel('questions.xlsx', sheet_name='916')\n",
    "question_3306 = pd.read_excel('questions.xlsx', sheet_name='3306')\n",
    "question_6055 = pd.read_excel('questions.xlsx', sheet_name='6055')\n",
    "\n",
    "folder = r'ver1\\1_prompt_log'\n",
    "file_path = ['1.HK_2024113011.json', \n",
    "             '778.HK_2024113012.json', \n",
    "             '916.HK_20241127_0009.json', \n",
    "             '3306.HK_2024113012.json', \n",
    "             '6055.HK_2024113012.json']\n",
    "\n",
    "q_seq = [question_1, question_778, question_916, question_3306, question_6055]\n",
    "response = []\n",
    "\n",
    "for i, f_name in enumerate(file_path):\n",
    "    file = os.path.join(folder, f_name)\n",
    "    with open(file, 'r') as f:\n",
    "        data = json.load(f)\n",
    "        q = pd.DataFrame(data.keys(), columns=['ver1'])\n",
    "        a = pd.DataFrame(data.values(), columns=['ver1'])\n",
    "        q_seq[i] = pd.concat([q_seq[i], q], axis=1)\n",
    "        response.append(a)\n",
    "\n",
    "question_1, question_778, question_916, question_3306, question_6055 = q_seq"
   ]
  },
  {
   "cell_type": "code",
   "execution_count": 48,
   "metadata": {},
   "outputs": [],
   "source": [
    "with pd.ExcelWriter('response.xlsx') as writer:\n",
    "    response[0].to_excel(writer, sheet_name='1', index=False)\n",
    "    response[1].to_excel(writer, sheet_name='778', index=False)\n",
    "    response[2].to_excel(writer, sheet_name='916', index=False)\n",
    "    response[3].to_excel(writer, sheet_name='3306', index=False)\n",
    "    response[4].to_excel(writer, sheet_name='6055', index=False)"
   ]
  },
  {
   "cell_type": "code",
   "execution_count": 50,
   "metadata": {},
   "outputs": [],
   "source": [
    "with pd.ExcelWriter('questions.xlsx') as writer:\n",
    "    question_1.to_excel(writer, sheet_name='1', index=False)\n",
    "    question_778.to_excel(writer, sheet_name='778', index=False)\n",
    "    question_916.to_excel(writer, sheet_name='916', index=False)\n",
    "    question_3306.to_excel(writer, sheet_name='3306', index=False)\n",
    "    question_6055.to_excel(writer, sheet_name='6055', index=False)"
   ]
  },
  {
   "cell_type": "code",
   "execution_count": null,
   "metadata": {},
   "outputs": [],
   "source": []
  }
 ],
 "metadata": {
  "kernelspec": {
   "display_name": "Python 3",
   "language": "python",
   "name": "python3"
  },
  "language_info": {
   "codemirror_mode": {
    "name": "ipython",
    "version": 3
   },
   "file_extension": ".py",
   "mimetype": "text/x-python",
   "name": "python",
   "nbconvert_exporter": "python",
   "pygments_lexer": "ipython3",
   "version": "3.12.3"
  }
 },
 "nbformat": 4,
 "nbformat_minor": 2
}
